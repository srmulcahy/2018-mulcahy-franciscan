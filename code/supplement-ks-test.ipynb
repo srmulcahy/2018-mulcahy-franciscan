{
 "cells": [
  {
   "cell_type": "markdown",
   "metadata": {},
   "source": [
    "# Two-sample Kolmogorov–Smirnov test\n",
    "\n",
    "This notebook applies a KS test to ages of zircon wihtin garnet and zircon within the matrix to test if they are derived from the same distribution."
   ]
  },
  {
   "cell_type": "markdown",
   "metadata": {},
   "source": [
    "## Import Python modules"
   ]
  },
  {
   "cell_type": "code",
   "execution_count": 1,
   "metadata": {
    "collapsed": true
   },
   "outputs": [],
   "source": [
    "import numpy as np\n",
    "import pandas as pd\n",
    "import seaborn as sns\n",
    "import matplotlib.pyplot as plt\n",
    "\n",
    "%matplotlib inline\n",
    "sns.set(style='ticks', font='Arial', context = 'paper')"
   ]
  },
  {
   "cell_type": "markdown",
   "metadata": {},
   "source": [
    "## Import zircon data from weighted averages"
   ]
  },
  {
   "cell_type": "code",
   "execution_count": 2,
   "metadata": {
    "collapsed": true
   },
   "outputs": [],
   "source": [
    "# Import U-Pb data\n",
    "upb = pd.read_csv('../data/zircon-ages.csv')\n",
    "upb = upb[upb.Age_Status == 'Include']\n",
    "\n",
    "# Subset U-Pb data by zircon population\n",
    "zm = upb[upb.Population == 'Matrix']\n",
    "zg = upb[upb.Population == 'Garnet']"
   ]
  },
  {
   "cell_type": "markdown",
   "metadata": {},
   "source": [
    "## Perform two sample KS test"
   ]
  },
  {
   "cell_type": "markdown",
   "metadata": {},
   "source": [
    "The null hypothesis (that the samples come from the same distribution) is rejected if:\n",
    "\n",
    "1. the p-value is small\n",
    "2. the D statistic exceeds the critical values defined by:\n",
    "\n",
    "$$ D_{n,m} > c(\\alpha)\\sqrt{\\frac{n+m}{nm}} $$\n",
    "\n",
    "Variables n and m are sample sizes and c(a) is 1.36 for condfidence lelvel of 0.05 and 1.63 for condfidence lelvel of 0.01.  "
   ]
  },
  {
   "cell_type": "code",
   "execution_count": 3,
   "metadata": {},
   "outputs": [
    {
     "name": "stdout",
     "output_type": "stream",
     "text": [
      "Ks_2sampResult(statistic=0.78947368421052633, pvalue=5.8850217885361679e-06) 0.447328653203 0.536136547589\n"
     ]
    }
   ],
   "source": [
    "from scipy import stats\n",
    "ks = stats.ks_2samp(zm.Age, zg.Age)\n",
    "\n",
    "m = zm.Age.count()\n",
    "n = zg.Age.count()\n",
    "\n",
    "# critical values for KS statistic\n",
    "# if D is greater than s, then sample not drawn from same distribution\n",
    "s95 = 1.36 * np.sqrt((n + m) / (n * m))\n",
    "s99 = 1.63 * np.sqrt((n + m) / (n * m))\n",
    "print(ks, s95, s99)"
   ]
  },
  {
   "cell_type": "markdown",
   "metadata": {},
   "source": [
    "The samples are not from the same distribution\n",
    "\n",
    "* the D statistoc is high 0.79\n",
    "* the p-value is low 5.9E-6 and less than 0.05 (or 0.01)\n",
    "* the D statistic is greater than the critival values at 0.05 (0.45) and 0.01 (0.54)"
   ]
  },
  {
   "cell_type": "markdown",
   "metadata": {},
   "source": [
    "## Plot results of the KS test"
   ]
  },
  {
   "cell_type": "code",
   "execution_count": 4,
   "metadata": {},
   "outputs": [
    {
     "name": "stdout",
     "output_type": "stream",
     "text": [
      "13.0 16.0\n"
     ]
    },
    {
     "data": {
      "image/png": "[encoded data removed]",
      "text/plain": [
       "<matplotlib.figure.Figure at 0x10615b1d0>"
      ]
     },
     "metadata": {},
     "output_type": "display_data"
    }
   ],
   "source": [
    "# Set plotting style with Seaborn\n",
    "sns.set_palette('Greys', n_colors=2)\n",
    "\n",
    "# scott bin-width\n",
    "m_bins = np.round(3.5 * zm.Age.std() / (zm.Age.count()**0.3333))\n",
    "g_bins = np.round(3.5 * zg.Age.std() / (zg.Age.count()**0.3333))\n",
    "print(m_bins, g_bins)\n",
    "\n",
    "#n_bins = 50.\n",
    "\n",
    "# plot the cumulative histogram for zircon in the matrix\n",
    "plt.hist(zm.Age, 13, normed=1, histtype='step',cumulative=True, label='Matrix zircon', lw=1.5)\n",
    "\n",
    "# plot the cumulative histogram for zircon in garnet\n",
    "plt.hist(zg.Age, 16, normed=1, histtype='step', cumulative=True, label='Garnet zircon', lw=1.5)\n",
    "\n",
    "plt.xlim(120., 210.)\n",
    "plt.ylim(0.0, 1.0)\n",
    "plt.xlabel('Age (Ma)')\n",
    "plt.ylabel('Fractional cumulative frequency')\n",
    "plt.legend(loc=2)\n",
    "plt.savefig('../figs/supplement-ks-test.png')"
   ]
  },
  {
   "cell_type": "code",
   "execution_count": null,
   "metadata": {
    "collapsed": true
   },
   "outputs": [],
   "source": []
  }
 ],
 "metadata": {
  "kernelspec": {
   "display_name": "Python 3",
   "language": "python",
   "name": "python3"
  },
  "language_info": {
   "codemirror_mode": {
    "name": "ipython",
    "version": 3
   },
   "file_extension": ".py",
   "mimetype": "text/x-python",
   "name": "python",
   "nbconvert_exporter": "python",
   "pygments_lexer": "ipython3",
   "version": "3.5.4"
  }
 },
 "nbformat": 4,
 "nbformat_minor": 2
}
